{
 "cells": [
  {
   "cell_type": "markdown",
   "metadata": {},
   "source": [
    "## Object Oriented Programming (OOP)"
   ]
  },
  {
   "cell_type": "markdown",
   "metadata": {},
   "source": [
    "#### Classes"
   ]
  },
  {
   "cell_type": "code",
   "execution_count": 38,
   "metadata": {},
   "outputs": [
    {
     "name": "stdout",
     "output_type": "stream",
     "text": [
      "Driving forward...\n"
     ]
    },
    {
     "data": {
      "text/plain": [
       "'Traveled X kilometers'"
      ]
     },
     "execution_count": 38,
     "metadata": {},
     "output_type": "execute_result"
    }
   ],
   "source": [
    "class Car:\n",
    "    def go(self):  # \"go\" is a functional attribute (it's a method)\n",
    "        print('Driving forward...')\n",
    "        return 'Traveled X kilometers'  # methods can return values just like regular functions.\n",
    "\n",
    "c = Car()  # instantiate object of class\n",
    "c.go()  # call method"
   ]
  },
  {
   "cell_type": "code",
   "execution_count": 39,
   "metadata": {},
   "outputs": [
    {
     "name": "stdout",
     "output_type": "stream",
     "text": [
      "The id of self is 4532543672\n",
      "The id of c is 4532543672\n"
     ]
    }
   ],
   "source": [
    "# ids of c and of self are the same, same object in memory\n",
    "class Car:\n",
    "    def go(self):\n",
    "        print(f'The id of self is {id(self)}')\n",
    "\n",
    "c = Car()\n",
    "c.go()\n",
    "print(f'The id of c is {id(c)}')\n",
    "#the first positional argument to any method within python is a reference to the object created\n",
    "#The self parameter is a reference to the class instance itself, and is used to access variables that belongs to the class.\n",
    "\n",
    "#self is the inside object"
   ]
  },
  {
   "cell_type": "code",
   "execution_count": 40,
   "metadata": {},
   "outputs": [
    {
     "name": "stdout",
     "output_type": "stream",
     "text": [
      "The id of self is 4532547312\n",
      "The id of self is 4532546248\n"
     ]
    }
   ],
   "source": [
    "d = Car()\n",
    "e = Car()\n",
    "d.go()\n",
    "e.go()"
   ]
  },
  {
   "cell_type": "code",
   "execution_count": 44,
   "metadata": {},
   "outputs": [
    {
     "name": "stdout",
     "output_type": "stream",
     "text": [
      "Driving 4 gas units of distance. 6 units left in tank.\n",
      "Driving 4 gas units of distance. 2 units left in tank.\n"
     ]
    }
   ],
   "source": [
    "class Car:\n",
    "    def __init__(self):  # the magic method called when instantiating a new object\n",
    "        #double underscore method (dunder method)\n",
    "        self.gas = 0  # \"gas\" is a data attribute\n",
    "\n",
    "    def go(self, x):\n",
    "        self.gas = self.gas - x\n",
    "        print(f'Driving {x} gas units of distance. {self.gas} units left in tank.')\n",
    "\n",
    "c = Car()  # magic metheod called, gas set to 0\n",
    "c.gas = 10  # Increase gas\n",
    "c.go(4)  # spend gas\n",
    "c.go(4)  # spend gas"
   ]
  },
  {
   "cell_type": "code",
   "execution_count": 51,
   "metadata": {},
   "outputs": [
    {
     "name": "stdout",
     "output_type": "stream",
     "text": [
      "Driving 4 gas units of distance. 6 units left in tank.\n"
     ]
    },
    {
     "data": {
      "text/plain": [
       "6"
      ]
     },
     "execution_count": 51,
     "metadata": {},
     "output_type": "execute_result"
    }
   ],
   "source": [
    "class Car:\n",
    "    def __init__(self, gas):\n",
    "        self._gas = gas  \n",
    "\n",
    "    def go(self, x):\n",
    "        self._gas = self._gas - x\n",
    "        print(f'Driving {x} gas units of distance. {self.gas} units left in tank.')\n",
    "    \n",
    "    @property #a decorator on top of method that changes the \n",
    "    def gas(self):\n",
    "        # When asked for the \".gas\" property, we'll look at the \"._gas\" property\n",
    "        return self._gas #private variable where you suggest it not be changed\n",
    "\n",
    "c = Car(10)\n",
    "c.go(4)  # spend gas\n",
    "c.gas"
   ]
  },
  {
   "cell_type": "code",
   "execution_count": 66,
   "metadata": {},
   "outputs": [
    {
     "name": "stdout",
     "output_type": "stream",
     "text": [
      "Driving 4 gas units of distance. 6 units left in tank.\n"
     ]
    },
    {
     "data": {
      "text/plain": [
       "20"
      ]
     },
     "execution_count": 66,
     "metadata": {},
     "output_type": "execute_result"
    }
   ],
   "source": [
    "# could set gas to be a negative number :/\n",
    "class Car:\n",
    "    def __init__(self, gas):\n",
    "        self.gas = gas  \n",
    "#self._gas = gas\n",
    "#then the setter part becomes useless, you can set c=car(-10) without raising an error\n",
    "    def go(self, x):\n",
    "        self.gas = self.gas - x\n",
    "        print(f'Driving {x} gas units of distance. {self.gas} units left in tank.')\n",
    "\n",
    "#The main purpose of any decorator is to change your class methods or attributes in such a way\n",
    "#so that the user of your class no need to make any change in their code.\n",
    "    @property\n",
    "    def gas(self):\n",
    "        return self._gas\n",
    "#     With @property, the method doesn't need to be called. Just treat it as data\n",
    "    \n",
    "    @gas.setter\n",
    "    def gas(self, x):\n",
    "        # When setting the \".gas\" property, we'll check the value and then set the \"._gas\" property\n",
    "        if x < 0:\n",
    "            raise ValueError(f'Units of gas can not be negative ({x})')\n",
    "\n",
    "        # Save value to a private variable. People will not directly interact with this value.\n",
    "        self._gas = x\n",
    "    \n",
    "    def add_gas(self, x):  # Helper method to add gas rather than simply set it.\n",
    "        self.gas = self.gas + x  # Other methods can use property\n",
    "        \n",
    "c = Car(10)  # create car with gas\n",
    "c.go(4)  # drive a bit\n",
    "c.add_gas(14)  # fuel up\n",
    "c.gas  # check gas guage"
   ]
  },
  {
   "cell_type": "code",
   "execution_count": 75,
   "metadata": {},
   "outputs": [
    {
     "data": {
      "text/plain": [
       "10"
      ]
     },
     "execution_count": 75,
     "metadata": {},
     "output_type": "execute_result"
    }
   ],
   "source": [
    "c = Car(10)\n",
    "c.gas\n",
    "#c.gas() # Don't need to do this!\n",
    "# properties make methods look like data attributes"
   ]
  },
  {
   "cell_type": "code",
   "execution_count": 76,
   "metadata": {
    "collapsed": true
   },
   "outputs": [],
   "source": [
    "# One blueprint, many objects\n",
    "my_car = Car(10)\n",
    "your_car = Car(10)\n",
    "her_car = Car(10)\n",
    "his_car = Car(10)"
   ]
  },
  {
   "cell_type": "code",
   "execution_count": 77,
   "metadata": {},
   "outputs": [
    {
     "name": "stdout",
     "output_type": "stream",
     "text": [
      "Your car: 20\n",
      "My car: 10\n"
     ]
    }
   ],
   "source": [
    "# Objects will not share instance level state \n",
    "your_car.add_gas(10)\n",
    "print(f'Your car: {your_car.gas}')\n",
    "print(f'My car: {my_car.gas}')"
   ]
  },
  {
   "cell_type": "markdown",
   "metadata": {},
   "source": [
    "#### Class level attributes"
   ]
  },
  {
   "cell_type": "code",
   "execution_count": 78,
   "metadata": {
    "collapsed": true
   },
   "outputs": [],
   "source": [
    "class Car:\n",
    "    doors = 4  # class level attribute (data attribute)\n",
    "\n",
    "    def __init__(self):  # class level attribute (functional attribute)\n",
    "        self.gas = 0  # instance level attribute (data attribute)\n",
    "    \n",
    "    # ...\n",
    "\n",
    "c1 = Car()  # create a few cars\n",
    "c2 = Car()\n",
    "c3 = Car()"
   ]
  },
  {
   "cell_type": "code",
   "execution_count": 79,
   "metadata": {},
   "outputs": [
    {
     "name": "stdout",
     "output_type": "stream",
     "text": [
      "c1: 4\n",
      "c2: 4\n",
      "c3: 4\n"
     ]
    }
   ],
   "source": [
    "# should have 4 doors\n",
    "print('c1:', c1.doors)\n",
    "print('c2:', c2.doors)\n",
    "print('c3:', c3.doors)"
   ]
  },
  {
   "cell_type": "code",
   "execution_count": 80,
   "metadata": {
    "collapsed": true
   },
   "outputs": [],
   "source": [
    "Car.doors = 2  # change class level attribute and all instances change"
   ]
  },
  {
   "cell_type": "code",
   "execution_count": 81,
   "metadata": {},
   "outputs": [
    {
     "name": "stdout",
     "output_type": "stream",
     "text": [
      "c1: 2\n",
      "c2: 2\n",
      "c3: 2\n"
     ]
    }
   ],
   "source": [
    "print('c1:', c1.doors)\n",
    "print('c2:', c2.doors)\n",
    "print('c3:', c3.doors)"
   ]
  },
  {
   "cell_type": "markdown",
   "metadata": {},
   "source": [
    "#### Subclassing "
   ]
  },
  {
   "cell_type": "code",
   "execution_count": 82,
   "metadata": {
    "collapsed": true
   },
   "outputs": [],
   "source": [
    "class Car:\n",
    "    doors = 4\n",
    "    \n",
    "    # ...\n",
    "\n",
    "# Sedan inherits all functional and data attributes from Car.\n",
    "class Sedan(Car):  \n",
    "    pass  # No changes from basic Car\n",
    "\n",
    "# Sedan inherits all functional and data attributes from Car.\n",
    "class Coupé(Car):\n",
    "    doors = 2  # Coupé overrides Car's door count to set its own"
   ]
  },
  {
   "cell_type": "code",
   "execution_count": 83,
   "metadata": {
    "collapsed": true
   },
   "outputs": [],
   "source": [
    "class Car:\n",
    "    def honk(self):\n",
    "        return 'Honk'\n",
    "    \n",
    "class Coupé(Car):\n",
    "    def honk(self):\n",
    "        # https://www.youtube.com/watch?v=Dqc6yRIHiW0\n",
    "        return 'Ahooga'"
   ]
  },
  {
   "cell_type": "code",
   "execution_count": 84,
   "metadata": {},
   "outputs": [
    {
     "data": {
      "text/plain": [
       "'Honk'"
      ]
     },
     "execution_count": 84,
     "metadata": {},
     "output_type": "execute_result"
    }
   ],
   "source": [
    "Car().honk()"
   ]
  },
  {
   "cell_type": "code",
   "execution_count": 85,
   "metadata": {},
   "outputs": [
    {
     "data": {
      "text/plain": [
       "'Ahooga'"
      ]
     },
     "execution_count": 85,
     "metadata": {},
     "output_type": "execute_result"
    }
   ],
   "source": [
    "Coupé().honk()"
   ]
  },
  {
   "cell_type": "code",
   "execution_count": 92,
   "metadata": {},
   "outputs": [
    {
     "data": {
      "text/plain": [
       "'Honk Honk'"
      ]
     },
     "execution_count": 92,
     "metadata": {},
     "output_type": "execute_result"
    }
   ],
   "source": [
    "class Car:\n",
    "    def honk(self):\n",
    "        return 'Honk'\n",
    "    \n",
    "class Coupé(Car):\n",
    "    def honk(self):\n",
    "        parent_result = super().honk()\n",
    "        return parent_result + ' ' + parent_result\n",
    "#super returns a reference to the parent; here it creates a Car object for a second\n",
    "#overriding the parent method\n",
    "Coupé().honk()\n",
    "\n",
    "#When there are multiple parent classes, super refers to the one that is inherited first with priority."
   ]
  },
  {
   "cell_type": "markdown",
   "metadata": {},
   "source": [
    "##### Exercises\n",
    "\n",
    "1. Create an Animal class. The initializer should take a name and age and save those values to the instance. The Animal initializer should raise a `ValueError` if it is given a negative age. \n",
    "2. Create a Human class that subclasses Animal. Raise a `ValueError` if a Human object is created with an age greater than 150."
   ]
  },
  {
   "cell_type": "code",
   "execution_count": 98,
   "metadata": {},
   "outputs": [
    {
     "data": {
      "text/plain": [
       "<__main__.Animal at 0x10e2efd68>"
      ]
     },
     "execution_count": 98,
     "metadata": {},
     "output_type": "execute_result"
    }
   ],
   "source": [
    "### Strip for lecture\n",
    "class Animal:\n",
    "    def __init__(self, name,age):\n",
    "        self.age = age\n",
    "        self.name = name\n",
    "    @property\n",
    "    def age(self):\n",
    "        return self._age\n",
    "\n",
    "    @age.setter\n",
    "    def age(self, value):\n",
    "        if value < 0:\n",
    "            raise ValueError(f'Age too low: {value}')\n",
    "        \n",
    "        self._age = value\n",
    "    \n",
    "Animal('dog',10)\n",
    "# Animal(-10)"
   ]
  },
  {
   "cell_type": "code",
   "execution_count": 94,
   "metadata": {},
   "outputs": [
    {
     "data": {
      "text/plain": [
       "<__main__.Human at 0x10e2ffbe0>"
      ]
     },
     "execution_count": 94,
     "metadata": {},
     "output_type": "execute_result"
    }
   ],
   "source": [
    "### Strip for lecture\n",
    "class Human(Animal):\n",
    "    # Have to update both properties \n",
    "    @property\n",
    "    def age(self):\n",
    "        return self._age\n",
    "\n",
    "    @age.setter\n",
    "    def age(self, value):\n",
    "        if value < 0:\n",
    "            raise ValueError(f'Age too low: {value}')\n",
    "        \n",
    "        if value > 150:\n",
    "            raise ValueError(f'Age too high: {value}')            \n",
    "\n",
    "        self._age = value\n",
    "\n",
    "Human('Peter',10)\n",
    "# Human('Peter',200)"
   ]
  },
  {
   "cell_type": "markdown",
   "metadata": {},
   "source": [
    "#### Four Pillars of Object Oriented Programming \n",
    "1. Abstraction\n",
    "    - User interact with only the data and methods they need. Everything else is hidden.\n",
    "1. Encapsulation\n",
    "    - Data and functions that operate on the data live together\n",
    "1. Inheritance\n",
    "    - Creating new blue prints from previous one and only overriding what needs to change.\n",
    "1. Polymorphism\n",
    "    - Objects can share method names with objects of separate classes and act like those classes.\n",
    "    Think Car().honk() vs Coupé().honk()"
   ]
  },
  {
   "cell_type": "code",
   "execution_count": null,
   "metadata": {
    "collapsed": true
   },
   "outputs": [],
   "source": []
  }
 ],
 "metadata": {
  "anaconda-cloud": {},
  "kernelspec": {
   "display_name": "Python 3",
   "language": "python",
   "name": "python3"
  },
  "language_info": {
   "codemirror_mode": {
    "name": "ipython",
    "version": 3
   },
   "file_extension": ".py",
   "mimetype": "text/x-python",
   "name": "python",
   "nbconvert_exporter": "python",
   "pygments_lexer": "ipython3",
   "version": "3.6.5"
  }
 },
 "nbformat": 4,
 "nbformat_minor": 2
}
